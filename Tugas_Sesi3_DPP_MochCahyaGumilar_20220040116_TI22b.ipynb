{
 "cells": [
  {
   "cell_type": "code",
   "execution_count": 30,
   "id": "e896ca13",
   "metadata": {},
   "outputs": [
    {
     "name": "stdout",
     "output_type": "stream",
     "text": [
      "Mochammad Cahya Gumilar\n",
      "20220040116\n",
      "6282121211212\n"
     ]
    }
   ],
   "source": [
    "a = \"Mochammad Cahya \"\n",
    "b = \"Gumilar\"\n",
    "NIM = 20220040116\n",
    "telp = 6282121211212\n",
    "\n",
    "hasil = a + b\n",
    "print(hasil)\n",
    "print(NIM)\n",
    "print(telp)\n"
   ]
  },
  {
   "cell_type": "code",
   "execution_count": 31,
   "id": "f478649c",
   "metadata": {},
   "outputs": [
    {
     "name": "stdout",
     "output_type": "stream",
     "text": [
      "7800\n"
     ]
    }
   ],
   "source": [
    "#Diketahui terdapat 3 buah angka, angka pertama adalah 5000, angka kedua adalah 2000,\n",
    "#dan angka ketiga adalah 200. Selanjutnya tambahkan 500 pada angka pertama dan kedua,\n",
    "#kemudian hasilnya angka pertama ditambah angka kedua dikurangi angka ketiga.\n",
    "#Buatlah dengan menggunakan Bahasa pemrogaman Python. (Score = 35)\n",
    "\n",
    "a = 5000\n",
    "b = 2000\n",
    "c = 200\n",
    "\n",
    "hasil1 = a + 500\n",
    "hasil2 = b + 500\n",
    "hasil3 = hasil1 + hasil2 - c\n",
    "\n",
    "print(hasil3)"
   ]
  },
  {
   "cell_type": "code",
   "execution_count": 34,
   "id": "8d007088",
   "metadata": {},
   "outputs": [
    {
     "name": "stdout",
     "output_type": "stream",
     "text": [
      "Masukkan Nilai Jari-jari = 40\n",
      "Keliling lingkaran\t=  251.32741228718345\n"
     ]
    }
   ],
   "source": [
    "import math\n",
    "\n",
    "r = float(input('Masukkan Nilai Jari-jari = '))\n",
    "\n",
    "keliling = 2*math.pi*r\n",
    "print('Keliling lingkaran\\t= ', keliling )"
   ]
  },
  {
   "cell_type": "code",
   "execution_count": null,
   "id": "a975199e",
   "metadata": {},
   "outputs": [],
   "source": []
  }
 ],
 "metadata": {
  "kernelspec": {
   "display_name": "Python 3 (ipykernel)",
   "language": "python",
   "name": "python3"
  },
  "language_info": {
   "codemirror_mode": {
    "name": "ipython",
    "version": 3
   },
   "file_extension": ".py",
   "mimetype": "text/x-python",
   "name": "python",
   "nbconvert_exporter": "python",
   "pygments_lexer": "ipython3",
   "version": "3.9.12"
  }
 },
 "nbformat": 4,
 "nbformat_minor": 5
}
